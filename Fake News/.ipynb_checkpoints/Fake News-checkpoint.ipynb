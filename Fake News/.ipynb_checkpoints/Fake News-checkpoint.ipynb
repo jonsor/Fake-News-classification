{
 "cells": [
  {
   "cell_type": "markdown",
   "metadata": {},
   "source": [
    "# Fake News\n",
    "\n",
    "This is code for predicting fake news.\n",
    "\n",
    "https://www.kaggle.com/c/fake-news\n",
    "\n",
    "Private accuracy: 0.98873<br>\n",
    "Public accuacy: 0.98782\n",
    "\n",
    "I got a 0.98782 public accracy when uploaded to kaggle.com (Which i suspect is the maximum possible because it is exaclty the same as the top one on the leaderboard)"
   ]
  },
  {
   "cell_type": "code",
   "execution_count": 65,
   "metadata": {},
   "outputs": [],
   "source": [
    "import matplotlib.pyplot as plt\n",
    "import numpy as np\n",
    "import pandas as pd\n",
    "\n",
    "pd.options.display.max_colwidth = 1000\n",
    "\n",
    "data = pd.read_csv('train.csv', delimiter = ',')\n",
    "test = pd.read_csv('test.csv', delimiter = ',')\n",
    "\n",
    "#data = data[:1000]\n",
    "#test = test[:1000]"
   ]
  },
  {
   "cell_type": "markdown",
   "metadata": {},
   "source": [
    "https://docs.python.org/3/howto/regex.html\n",
    "\n",
    "## Text Preprocessing:"
   ]
  },
  {
   "cell_type": "code",
   "execution_count": 68,
   "metadata": {
    "scrolled": true
   },
   "outputs": [
    {
     "name": "stdout",
     "output_type": "stream",
     "text": [
      "before non-latin removal:  (20800, 5)\n",
      "[False, False, False, False, False]\n",
      "after non-latin removal:  (20800, 5)\n"
     ]
    },
    {
     "data": {
      "text/html": [
       "<div>\n",
       "<style scoped>\n",
       "    .dataframe tbody tr th:only-of-type {\n",
       "        vertical-align: middle;\n",
       "    }\n",
       "\n",
       "    .dataframe tbody tr th {\n",
       "        vertical-align: top;\n",
       "    }\n",
       "\n",
       "    .dataframe thead th {\n",
       "        text-align: right;\n",
       "    }\n",
       "</style>\n",
       "<table border=\"1\" class=\"dataframe\">\n",
       "  <thead>\n",
       "    <tr style=\"text-align: right;\">\n",
       "      <th></th>\n",
       "      <th>id</th>\n",
       "      <th>title</th>\n",
       "      <th>author</th>\n",
       "      <th>text</th>\n",
       "      <th>label</th>\n",
       "    </tr>\n",
       "  </thead>\n",
       "  <tbody>\n",
       "    <tr>\n",
       "      <th>0</th>\n",
       "      <td>0</td>\n",
       "      <td>House Dem Aide We Didn t Even See Comey s Letter Until Jason Chaffetz Tweeted It</td>\n",
       "      <td>Darrell Lucus</td>\n",
       "      <td>house dem aide we didn t even see comey s letter until jason chaffetz tweeted it by darrell lucus on october   subscribe jason chaffetz on the stump in american fork utah image courtesy michael jolley available under a creative commons by license with apologies to keith olbermann there is no doubt who the worst person in the world is this week fbi director james comey but according to a house democratic aide it looks like we also know who the second worst person is as well it turns out that when comey sent his now infamous letter announcing that the fbi was looking into emails that may be related to hillary clinton s email server the ranking democrats on the relevant committees didn t hear about it from comey they found out via a tweet from one of the republican committee chairmen as we now know comey notified the republican chairmen and democratic ranking members of the house intelligence judiciary and oversight committees that his agency was reviewing emails it had recently disco...</td>\n",
       "      <td>1</td>\n",
       "    </tr>\n",
       "    <tr>\n",
       "      <th>1</th>\n",
       "      <td>1</td>\n",
       "      <td>FLYNN Hillary Clinton Big Woman on Campus Breitbart</td>\n",
       "      <td>Daniel J. Flynn</td>\n",
       "      <td>ever get the feeling your life circles the roundabout rather than heads in a straight line toward the intended destination hillary clinton remains the big woman on campus in leafy liberal wellesley massachusetts everywhere else votes her most likely to don her inauguration dress for the remainder of her days the way miss havisham forever wore that wedding dress speaking of great expectations hillary rodham overflowed with them  years ago when she first addressed a wellesley graduating class the president of the college informed those gathered in  that the students needed no debate so far as i could ascertain as to who their spokesman was to be kind of the like the democratic primaries in  minus the terms unknown then even at a seven sisters school i am very glad that miss adams made it clear that what i am speaking for today is all of us the  of us miss rodham told her classmates after appointing herself edger bergen to the charlie mccarthys and mortimer snerds in attendance the be...</td>\n",
       "      <td>0</td>\n",
       "    </tr>\n",
       "    <tr>\n",
       "      <th>2</th>\n",
       "      <td>2</td>\n",
       "      <td>Why the Truth Might Get You Fired</td>\n",
       "      <td>Consortiumnews.com</td>\n",
       "      <td>why the truth might get you fired october   the tension between intelligence analysts and political policymakers has always been between honest assessments and desired results with the latter often overwhelming the former as in the iraq war writes lawrence davidson by lawrence davidson for those who might wonder why foreign policy makers repeatedly make bad choices some insight might be drawn from the following analysis the action here plays out in the united states but the lessons are probably universal back in the early spring of  george w bush initiated the invasion of iraq one of his key public reasons for doing so was the claim that the country s dictator saddam hussein was on the verge of developing nuclear weapons and was hiding other weapons of mass destruction the real reason went beyond that charge and included a long range plan for regime change in the middle east president george w bush and vice president dick cheney receive an oval office briefing from cia director geo...</td>\n",
       "      <td>1</td>\n",
       "    </tr>\n",
       "  </tbody>\n",
       "</table>\n",
       "</div>"
      ],
      "text/plain": [
       "   id  \\\n",
       "0   0   \n",
       "1   1   \n",
       "2   2   \n",
       "\n",
       "                                                                              title  \\\n",
       "0  House Dem Aide We Didn t Even See Comey s Letter Until Jason Chaffetz Tweeted It   \n",
       "1                               FLYNN Hillary Clinton Big Woman on Campus Breitbart   \n",
       "2                                                 Why the Truth Might Get You Fired   \n",
       "\n",
       "               author  \\\n",
       "0       Darrell Lucus   \n",
       "1     Daniel J. Flynn   \n",
       "2  Consortiumnews.com   \n",
       "\n",
       "                                                                                                                                                                                                                                                                                                                                                                                                                                                                                                                                                                                                                                                                                                                                                                                                                                                                                                                                                                                                                                      text  \\\n",
       "0  house dem aide we didn t even see comey s letter until jason chaffetz tweeted it by darrell lucus on october   subscribe jason chaffetz on the stump in american fork utah image courtesy michael jolley available under a creative commons by license with apologies to keith olbermann there is no doubt who the worst person in the world is this week fbi director james comey but according to a house democratic aide it looks like we also know who the second worst person is as well it turns out that when comey sent his now infamous letter announcing that the fbi was looking into emails that may be related to hillary clinton s email server the ranking democrats on the relevant committees didn t hear about it from comey they found out via a tweet from one of the republican committee chairmen as we now know comey notified the republican chairmen and democratic ranking members of the house intelligence judiciary and oversight committees that his agency was reviewing emails it had recently disco...   \n",
       "1  ever get the feeling your life circles the roundabout rather than heads in a straight line toward the intended destination hillary clinton remains the big woman on campus in leafy liberal wellesley massachusetts everywhere else votes her most likely to don her inauguration dress for the remainder of her days the way miss havisham forever wore that wedding dress speaking of great expectations hillary rodham overflowed with them  years ago when she first addressed a wellesley graduating class the president of the college informed those gathered in  that the students needed no debate so far as i could ascertain as to who their spokesman was to be kind of the like the democratic primaries in  minus the terms unknown then even at a seven sisters school i am very glad that miss adams made it clear that what i am speaking for today is all of us the  of us miss rodham told her classmates after appointing herself edger bergen to the charlie mccarthys and mortimer snerds in attendance the be...   \n",
       "2  why the truth might get you fired october   the tension between intelligence analysts and political policymakers has always been between honest assessments and desired results with the latter often overwhelming the former as in the iraq war writes lawrence davidson by lawrence davidson for those who might wonder why foreign policy makers repeatedly make bad choices some insight might be drawn from the following analysis the action here plays out in the united states but the lessons are probably universal back in the early spring of  george w bush initiated the invasion of iraq one of his key public reasons for doing so was the claim that the country s dictator saddam hussein was on the verge of developing nuclear weapons and was hiding other weapons of mass destruction the real reason went beyond that charge and included a long range plan for regime change in the middle east president george w bush and vice president dick cheney receive an oval office briefing from cia director geo...   \n",
       "\n",
       "   label  \n",
       "0      1  \n",
       "1      0  \n",
       "2      1  "
      ]
     },
     "metadata": {},
     "output_type": "display_data"
    },
    {
     "name": "stdout",
     "output_type": "stream",
     "text": [
      "before non-latin removal:  (5200, 4)\n",
      "[False, False, False, False, True]\n",
      "after non-latin removal:  (5200, 4)\n"
     ]
    },
    {
     "data": {
      "text/html": [
       "<div>\n",
       "<style scoped>\n",
       "    .dataframe tbody tr th:only-of-type {\n",
       "        vertical-align: middle;\n",
       "    }\n",
       "\n",
       "    .dataframe tbody tr th {\n",
       "        vertical-align: top;\n",
       "    }\n",
       "\n",
       "    .dataframe thead th {\n",
       "        text-align: right;\n",
       "    }\n",
       "</style>\n",
       "<table border=\"1\" class=\"dataframe\">\n",
       "  <thead>\n",
       "    <tr style=\"text-align: right;\">\n",
       "      <th></th>\n",
       "      <th>id</th>\n",
       "      <th>title</th>\n",
       "      <th>author</th>\n",
       "      <th>text</th>\n",
       "    </tr>\n",
       "  </thead>\n",
       "  <tbody>\n",
       "    <tr>\n",
       "      <th>0</th>\n",
       "      <td>20800</td>\n",
       "      <td>Specter of Trump Loosens Tongues if Not Purse Strings in Silicon Valley The New York Times</td>\n",
       "      <td>David Streitfeld</td>\n",
       "      <td>palo alto calif after years of scorning the political process silicon valley has leapt into the fray the prospect of a president donald j trump is pushing the tech community to move beyond its traditional role as donors and to embrace a new existence as agitators and activists a distinguished venture capital firm emblazoned on its corporate home page an earthy epithet one prominent tech chieftain says the consequences of mr trump s election would range between disastrous and terrible another compares him to a dictator and nearly  tech leaders signed an open letter decrying mr trump and his campaign of anger and bigotry not quite all the action is peter thiel a founder of paypal and palantir who was the first outside investor in facebook spoke at the republican convention in july the new york times reported on saturday that mr thiel is giving   million to support mr trump s candidacy even as other supporters flee he also recently gave  million to a super pac that supports senator ro...</td>\n",
       "    </tr>\n",
       "    <tr>\n",
       "      <th>1</th>\n",
       "      <td>20801</td>\n",
       "      <td>Russian warships ready to strike terrorists near Aleppo</td>\n",
       "      <td></td>\n",
       "      <td>russian warships ready to strike terrorists near aleppo    source source mil ru attack aircraft of the russian aircraft carrier admiral kuznetsov get ready to strike terrorists positions in the vicinity of aleppo sources at the russian defense ministry said rbc reports insurgents attempts to break into aleppo from outside are meaningless the source said the main task of the aircraft carrier aviation group is to strike missile and air blows on the terrorists whose goal is to enter aleppo after the attacks on terrorists positions one will have to forget about the support for insurgents from the outside the source said the russian group in the mediterranean sea consists of the admiral kuznetsov aircraft carrier the heavy nuclear missile cruiser pyotr velikiy peter the great and large anti submarine ships severomorsk and vice admiral kulakov russia has increased intelligence activities in syria to establish the areas where terrorists are concentrated as well as the routes that they use...</td>\n",
       "    </tr>\n",
       "    <tr>\n",
       "      <th>2</th>\n",
       "      <td>20802</td>\n",
       "      <td>NoDAPL Native American Leaders Vow to Stay All Winter File Lawsuit Against Police</td>\n",
       "      <td>Common Dreams</td>\n",
       "      <td>videos nodapl native american leaders vow to stay all winter file lawsuit against police amnesty international are sending a delegation of human rights observers to monitor the response of law enforcement to the protests be sociable share rob wilson photo native american leaders vowed on saturday to protest through the winter against a north dakota oil pipeline they say threatens water resources and sacred lands and are planning lawsuits over police treatment of arrested protesters standing rock sioux chairman dave archambault ii said he and other tribal leaders were working on providing food heat and shelter for protesters opposed to the   billion dakota access pipeline we re just working through some technical details as far as where the land is and the type of land that can be used for some permanent structures archambault told reporters in mandan north dakota on saturday morning at least  shelters were being readied on tribal land against temperatures that can fall below  fahre...</td>\n",
       "    </tr>\n",
       "  </tbody>\n",
       "</table>\n",
       "</div>"
      ],
      "text/plain": [
       "      id  \\\n",
       "0  20800   \n",
       "1  20801   \n",
       "2  20802   \n",
       "\n",
       "                                                                                        title  \\\n",
       "0  Specter of Trump Loosens Tongues if Not Purse Strings in Silicon Valley The New York Times   \n",
       "1                                     Russian warships ready to strike terrorists near Aleppo   \n",
       "2           NoDAPL Native American Leaders Vow to Stay All Winter File Lawsuit Against Police   \n",
       "\n",
       "             author  \\\n",
       "0  David Streitfeld   \n",
       "1                     \n",
       "2     Common Dreams   \n",
       "\n",
       "                                                                                                                                                                                                                                                                                                                                                                                                                                                                                                                                                                                                                                                                                                                                                                                                                                                                                                                                                                                                                                      text  \n",
       "0  palo alto calif after years of scorning the political process silicon valley has leapt into the fray the prospect of a president donald j trump is pushing the tech community to move beyond its traditional role as donors and to embrace a new existence as agitators and activists a distinguished venture capital firm emblazoned on its corporate home page an earthy epithet one prominent tech chieftain says the consequences of mr trump s election would range between disastrous and terrible another compares him to a dictator and nearly  tech leaders signed an open letter decrying mr trump and his campaign of anger and bigotry not quite all the action is peter thiel a founder of paypal and palantir who was the first outside investor in facebook spoke at the republican convention in july the new york times reported on saturday that mr thiel is giving   million to support mr trump s candidacy even as other supporters flee he also recently gave  million to a super pac that supports senator ro...  \n",
       "1  russian warships ready to strike terrorists near aleppo    source source mil ru attack aircraft of the russian aircraft carrier admiral kuznetsov get ready to strike terrorists positions in the vicinity of aleppo sources at the russian defense ministry said rbc reports insurgents attempts to break into aleppo from outside are meaningless the source said the main task of the aircraft carrier aviation group is to strike missile and air blows on the terrorists whose goal is to enter aleppo after the attacks on terrorists positions one will have to forget about the support for insurgents from the outside the source said the russian group in the mediterranean sea consists of the admiral kuznetsov aircraft carrier the heavy nuclear missile cruiser pyotr velikiy peter the great and large anti submarine ships severomorsk and vice admiral kulakov russia has increased intelligence activities in syria to establish the areas where terrorists are concentrated as well as the routes that they use...  \n",
       "2  videos nodapl native american leaders vow to stay all winter file lawsuit against police amnesty international are sending a delegation of human rights observers to monitor the response of law enforcement to the protests be sociable share rob wilson photo native american leaders vowed on saturday to protest through the winter against a north dakota oil pipeline they say threatens water resources and sacred lands and are planning lawsuits over police treatment of arrested protesters standing rock sioux chairman dave archambault ii said he and other tribal leaders were working on providing food heat and shelter for protesters opposed to the   billion dakota access pipeline we re just working through some technical details as far as where the land is and the type of land that can be used for some permanent structures archambault told reporters in mandan north dakota on saturday morning at least  shelters were being readied on tribal land against temperatures that can fall below  fahre...  "
      ]
     },
     "metadata": {},
     "output_type": "display_data"
    },
    {
     "data": {
      "text/html": [
       "<div>\n",
       "<style scoped>\n",
       "    .dataframe tbody tr th:only-of-type {\n",
       "        vertical-align: middle;\n",
       "    }\n",
       "\n",
       "    .dataframe tbody tr th {\n",
       "        vertical-align: top;\n",
       "    }\n",
       "\n",
       "    .dataframe thead th {\n",
       "        text-align: right;\n",
       "    }\n",
       "</style>\n",
       "<table border=\"1\" class=\"dataframe\">\n",
       "  <thead>\n",
       "    <tr style=\"text-align: right;\">\n",
       "      <th></th>\n",
       "      <th>id</th>\n",
       "      <th>title</th>\n",
       "      <th>author</th>\n",
       "      <th>text</th>\n",
       "      <th>label</th>\n",
       "    </tr>\n",
       "  </thead>\n",
       "  <tbody>\n",
       "    <tr>\n",
       "      <th>0</th>\n",
       "      <td>0</td>\n",
       "      <td>House Dem Aide We Didn t Even See Comey s Letter Until Jason Chaffetz Tweeted It</td>\n",
       "      <td>Darrell Lucus</td>\n",
       "      <td>house dem aide we didn t even see comey s letter until jason chaffetz tweeted it by darrell lucus on october subscribe jason chaffetz on the stump in american fork utah image courtesy michael jolley available under a creative common by license with apology to keith olbermann there is no doubt who the worst person in the world is this week fbi director james comey but according to a house democratic aide it look like we also know who the second worst person is a well it turn out that when comey sent his now infamous letter announcing that the fbi wa looking into email that may be related to hillary clinton s email server the ranking democrat on the relevant committee didn t hear about it from comey they found out via a tweet from one of the republican committee chairman a we now know comey notified the republican chairman and democratic ranking member of the house intelligence judiciary and oversight committee that his agency wa reviewing email it had recently discovered in order to...</td>\n",
       "      <td>1</td>\n",
       "    </tr>\n",
       "    <tr>\n",
       "      <th>1</th>\n",
       "      <td>1</td>\n",
       "      <td>FLYNN Hillary Clinton Big Woman on Campus Breitbart</td>\n",
       "      <td>Daniel J. Flynn</td>\n",
       "      <td>ever get the feeling your life circle the roundabout rather than head in a straight line toward the intended destination hillary clinton remains the big woman on campus in leafy liberal wellesley massachusetts everywhere else vote her most likely to don her inauguration dress for the remainder of her day the way miss havisham forever wore that wedding dress speaking of great expectation hillary rodham overflowed with them year ago when she first addressed a wellesley graduating class the president of the college informed those gathered in that the student needed no debate so far a i could ascertain a to who their spokesman wa to be kind of the like the democratic primary in minus the term unknown then even at a seven sister school i am very glad that miss adam made it clear that what i am speaking for today is all of u the of u miss rodham told her classmate after appointing herself edger bergen to the charlie mccarthy and mortimer snerds in attendance the bespectacled in granny gl...</td>\n",
       "      <td>0</td>\n",
       "    </tr>\n",
       "    <tr>\n",
       "      <th>2</th>\n",
       "      <td>2</td>\n",
       "      <td>Why the Truth Might Get You Fired</td>\n",
       "      <td>Consortiumnews.com</td>\n",
       "      <td>why the truth might get you fired october the tension between intelligence analyst and political policymakers ha always been between honest assessment and desired result with the latter often overwhelming the former a in the iraq war writes lawrence davidson by lawrence davidson for those who might wonder why foreign policy maker repeatedly make bad choice some insight might be drawn from the following analysis the action here play out in the united state but the lesson are probably universal back in the early spring of george w bush initiated the invasion of iraq one of his key public reason for doing so wa the claim that the country s dictator saddam hussein wa on the verge of developing nuclear weapon and wa hiding other weapon of mass destruction the real reason went beyond that charge and included a long range plan for regime change in the middle east president george w bush and vice president dick cheney receive an oval office briefing from cia director george tenet also pres...</td>\n",
       "      <td>1</td>\n",
       "    </tr>\n",
       "  </tbody>\n",
       "</table>\n",
       "</div>"
      ],
      "text/plain": [
       "   id  \\\n",
       "0   0   \n",
       "1   1   \n",
       "2   2   \n",
       "\n",
       "                                                                              title  \\\n",
       "0  House Dem Aide We Didn t Even See Comey s Letter Until Jason Chaffetz Tweeted It   \n",
       "1                               FLYNN Hillary Clinton Big Woman on Campus Breitbart   \n",
       "2                                                 Why the Truth Might Get You Fired   \n",
       "\n",
       "               author  \\\n",
       "0       Darrell Lucus   \n",
       "1     Daniel J. Flynn   \n",
       "2  Consortiumnews.com   \n",
       "\n",
       "                                                                                                                                                                                                                                                                                                                                                                                                                                                                                                                                                                                                                                                                                                                                                                                                                                                                                                                                                                                                                                      text  \\\n",
       "0  house dem aide we didn t even see comey s letter until jason chaffetz tweeted it by darrell lucus on october subscribe jason chaffetz on the stump in american fork utah image courtesy michael jolley available under a creative common by license with apology to keith olbermann there is no doubt who the worst person in the world is this week fbi director james comey but according to a house democratic aide it look like we also know who the second worst person is a well it turn out that when comey sent his now infamous letter announcing that the fbi wa looking into email that may be related to hillary clinton s email server the ranking democrat on the relevant committee didn t hear about it from comey they found out via a tweet from one of the republican committee chairman a we now know comey notified the republican chairman and democratic ranking member of the house intelligence judiciary and oversight committee that his agency wa reviewing email it had recently discovered in order to...   \n",
       "1  ever get the feeling your life circle the roundabout rather than head in a straight line toward the intended destination hillary clinton remains the big woman on campus in leafy liberal wellesley massachusetts everywhere else vote her most likely to don her inauguration dress for the remainder of her day the way miss havisham forever wore that wedding dress speaking of great expectation hillary rodham overflowed with them year ago when she first addressed a wellesley graduating class the president of the college informed those gathered in that the student needed no debate so far a i could ascertain a to who their spokesman wa to be kind of the like the democratic primary in minus the term unknown then even at a seven sister school i am very glad that miss adam made it clear that what i am speaking for today is all of u the of u miss rodham told her classmate after appointing herself edger bergen to the charlie mccarthy and mortimer snerds in attendance the bespectacled in granny gl...   \n",
       "2  why the truth might get you fired october the tension between intelligence analyst and political policymakers ha always been between honest assessment and desired result with the latter often overwhelming the former a in the iraq war writes lawrence davidson by lawrence davidson for those who might wonder why foreign policy maker repeatedly make bad choice some insight might be drawn from the following analysis the action here play out in the united state but the lesson are probably universal back in the early spring of george w bush initiated the invasion of iraq one of his key public reason for doing so wa the claim that the country s dictator saddam hussein wa on the verge of developing nuclear weapon and wa hiding other weapon of mass destruction the real reason went beyond that charge and included a long range plan for regime change in the middle east president george w bush and vice president dick cheney receive an oval office briefing from cia director george tenet also pres...   \n",
       "\n",
       "   label  \n",
       "0      1  \n",
       "1      0  \n",
       "2      1  "
      ]
     },
     "execution_count": 68,
     "metadata": {},
     "output_type": "execute_result"
    }
   ],
   "source": [
    "import regex\n",
    "import re\n",
    "\n",
    "test=test.fillna('')\n",
    "data=data.fillna('')\n",
    "\n",
    "def clean_data(data):\n",
    "    # Remove rows with cyrillic text\n",
    "    print(\"before non-latin removal: \", data.shape)\n",
    "    filter = []\n",
    "    for index, row in data.iterrows():\n",
    "        reg = regex.match('^\\p{Latin}',row['text'])\n",
    "        if reg == None:\n",
    "            filter.append(True)\n",
    "        else:\n",
    "            filter.append(False)\n",
    "\n",
    "\n",
    "\n",
    "    print(filter[:5])\n",
    "    filter = np.array(filter)\n",
    "    #data = data[~filter]  \n",
    "    print(\"after non-latin removal: \", data.shape)\n",
    "\n",
    "    # Make lower case\n",
    "\n",
    "    data['text'] = data['text'].apply(lambda x: x.lower())\n",
    "    data['title'] = data['title'].apply(lambda text: ' '.join(re.findall(r'\\w+', text)))\n",
    "    data['title'] = data['title'].apply((lambda x: re.sub('[^a-zA-z\\s]','',x)))\n",
    "    data['title'] = data['title'].str.strip()\n",
    "\n",
    "    data['text'] = data['text'].apply(lambda text: ' '.join(re.findall(r'\\w+', text)))\n",
    "    data['text'] = data['text'].apply((lambda x: re.sub('[^a-zA-z\\s]','',x)))\n",
    "    data['text'] = data['text'].str.strip()\n",
    "\n",
    "    import nltk\n",
    "    #nltk.download('punkt')\n",
    "    #nltk.download('wordnet')\n",
    "\n",
    "    # Lemmatize words\n",
    "    # Stem words\n",
    "    from nltk.stem.porter import PorterStemmer\n",
    "    porter_stemmer = PorterStemmer()\n",
    "\n",
    "    from nltk.stem import WordNetLemmatizer\n",
    "\n",
    "    w_tokenizer = nltk.tokenize.WhitespaceTokenizer()\n",
    "    lemmatizer = nltk.stem.WordNetLemmatizer()\n",
    "    display(data.head(3))\n",
    "    data['text'] = data['text'].apply(lambda x: \" \".join([lemmatizer.lemmatize(w) for w in w_tokenizer.tokenize(x)]))\n",
    "\n",
    "    # Remove rare words\n",
    "    #freq = pd.Series(' '.join(data['text']).split()).value_counts()[-10:]\n",
    "\n",
    "    #freq = list(freq.index)\n",
    "    #data['text'] = data['text'].apply(lambda x: \" \".join(x for x in x.split() if x not in freq))\n",
    "\n",
    "clean_data(data)\n",
    "clean_data(test)\n",
    "data_logreg = data.copy()\n",
    "data_logreg['text']=data_logreg['title']+' '+data_logreg['author']+data_logreg['text']\n",
    "test_logreg = test.copy()\n",
    "test_logreg['text']=test_logreg['title']+' '+test_logreg['author']+test_logreg['text']\n",
    "data.head(3)"
   ]
  },
  {
   "cell_type": "markdown",
   "metadata": {},
   "source": [
    "## Create a list of stop words\n",
    "### Identifies words that provides little information\n",
    "Words with little variance between labels and words with low frequency are removed."
   ]
  },
  {
   "cell_type": "code",
   "execution_count": 69,
   "metadata": {},
   "outputs": [
    {
     "data": {
      "image/png": "[encoded data removed]",
      "text/plain": [
       "<Figure size 432x288 with 1 Axes>"
      ]
     },
     "metadata": {},
     "output_type": "display_data"
    },
    {
     "data": {
      "image/png": "[encoded data removed]",
      "text/plain": [
       "<Figure size 432x288 with 1 Axes>"
      ]
     },
     "metadata": {},
     "output_type": "display_data"
    },
    {
     "name": "stdout",
     "output_type": "stream",
     "text": [
      "word_dist_true:  54873\n",
      "word_dist_false:  61431\n",
      "stop_words:  10496\n",
      "stop_words:  85503\n"
     ]
    }
   ],
   "source": [
    "from nltk.corpus import stopwords\n",
    "import nltk\n",
    "\n",
    "def generate_stopwords(data):\n",
    "    true = data.loc[data['label'] == 0]\n",
    "    fake = data.loc[data['label'] == 1]\n",
    "    words = nltk.tokenize.word_tokenize(true['text'].to_string())\n",
    "    word_dist_true = nltk.FreqDist(words)\n",
    "\n",
    "    words = nltk.tokenize.word_tokenize(fake['text'].to_string())\n",
    "    word_dist_fake = nltk.FreqDist(words)\n",
    "\n",
    "    word_dist_true.plot(30,cumulative=False)\n",
    "    word_dist_fake.plot(30,cumulative=False)\n",
    "\n",
    "    mc_true = dict(word_dist_true.most_common(int(len(word_dist_true)*0.3)))\n",
    "    mc_false = dict(word_dist_fake.most_common(int(len(word_dist_fake)*0.3)))\n",
    "    mc_true.items()\n",
    "    stop_words = set()\n",
    "\n",
    "    for key, value in mc_true.items():\n",
    "        if key in mc_false:\n",
    "            difference = abs(value - mc_false[key])/value\n",
    "\n",
    "            if difference < 0.9:\n",
    "                stop_words.add(key)\n",
    "\n",
    "    print(\"word_dist_true: \", len(word_dist_true))\n",
    "    print(\"word_dist_false: \",len(word_dist_fake))\n",
    "    print(\"stop_words: \", len(stop_words))\n",
    "\n",
    "    valuec = pd.Series(' '.join(data['text']).split()).value_counts()\n",
    "    #print(valuec)\n",
    "    low_freq_words = valuec[valuec <= 2]\n",
    "    stop_words.update(low_freq_words.index.tolist())\n",
    "\n",
    "    nltk_stop_words = stopwords.words('english')\n",
    "    stop_words.update(nltk_stop_words)\n",
    "    print(\"stop_words: \", len(stop_words))\n",
    "    return stop_words;\n",
    "\n",
    "stop_words = generate_stopwords(data)"
   ]
  },
  {
   "cell_type": "markdown",
   "metadata": {},
   "source": [
    "### Remove stop-words from dataframe"
   ]
  },
  {
   "cell_type": "code",
   "execution_count": 70,
   "metadata": {
    "scrolled": true
   },
   "outputs": [
    {
     "data": {
      "text/html": [
       "<div>\n",
       "<style scoped>\n",
       "    .dataframe tbody tr th:only-of-type {\n",
       "        vertical-align: middle;\n",
       "    }\n",
       "\n",
       "    .dataframe tbody tr th {\n",
       "        vertical-align: top;\n",
       "    }\n",
       "\n",
       "    .dataframe thead th {\n",
       "        text-align: right;\n",
       "    }\n",
       "</style>\n",
       "<table border=\"1\" class=\"dataframe\">\n",
       "  <thead>\n",
       "    <tr style=\"text-align: right;\">\n",
       "      <th></th>\n",
       "      <th>id</th>\n",
       "      <th>title</th>\n",
       "      <th>author</th>\n",
       "      <th>text</th>\n",
       "      <th>label</th>\n",
       "    </tr>\n",
       "  </thead>\n",
       "  <tbody>\n",
       "    <tr>\n",
       "      <th>0</th>\n",
       "      <td>0</td>\n",
       "      <td>House Dem Aide We Didn t Even See Comey s Letter Until Jason Chaffetz Tweeted It</td>\n",
       "      <td>Darrell Lucus</td>\n",
       "      <td>house dem aide we didn t even see comey s letter until jason chaffetz tweeted it by darrell lucus on october subscribe jason chaffetz on the stump in american fork utah image courtesy michael jolley available under a creative common by license with apology to keith olbermann there is no doubt who the worst person in the world is this week fbi director james comey but according to a house democratic aide it look like we also know who the second worst person is a well it turn out that when comey sent his now infamous letter announcing that the fbi wa looking into email that may be related to hillary clinton s email server the ranking democrat on the relevant committee didn t hear about it from comey they found out via a tweet from one of the republican committee chairman a we now know comey notified the republican chairman and democratic ranking member of the house intelligence judiciary and oversight committee that his agency wa reviewing email it had recently discovered in order to...</td>\n",
       "      <td>1</td>\n",
       "    </tr>\n",
       "  </tbody>\n",
       "</table>\n",
       "</div>"
      ],
      "text/plain": [
       "   id  \\\n",
       "0   0   \n",
       "\n",
       "                                                                              title  \\\n",
       "0  House Dem Aide We Didn t Even See Comey s Letter Until Jason Chaffetz Tweeted It   \n",
       "\n",
       "          author  \\\n",
       "0  Darrell Lucus   \n",
       "\n",
       "                                                                                                                                                                                                                                                                                                                                                                                                                                                                                                                                                                                                                                                                                                                                                                                                                                                                                                                                                                                                                                      text  \\\n",
       "0  house dem aide we didn t even see comey s letter until jason chaffetz tweeted it by darrell lucus on october subscribe jason chaffetz on the stump in american fork utah image courtesy michael jolley available under a creative common by license with apology to keith olbermann there is no doubt who the worst person in the world is this week fbi director james comey but according to a house democratic aide it look like we also know who the second worst person is a well it turn out that when comey sent his now infamous letter announcing that the fbi wa looking into email that may be related to hillary clinton s email server the ranking democrat on the relevant committee didn t hear about it from comey they found out via a tweet from one of the republican committee chairman a we now know comey notified the republican chairman and democratic ranking member of the house intelligence judiciary and oversight committee that his agency wa reviewing email it had recently discovered in order to...   \n",
       "\n",
       "   label  \n",
       "0      1  "
      ]
     },
     "metadata": {},
     "output_type": "display_data"
    },
    {
     "data": {
      "text/html": [
       "<div>\n",
       "<style scoped>\n",
       "    .dataframe tbody tr th:only-of-type {\n",
       "        vertical-align: middle;\n",
       "    }\n",
       "\n",
       "    .dataframe tbody tr th {\n",
       "        vertical-align: top;\n",
       "    }\n",
       "\n",
       "    .dataframe thead th {\n",
       "        text-align: right;\n",
       "    }\n",
       "</style>\n",
       "<table border=\"1\" class=\"dataframe\">\n",
       "  <thead>\n",
       "    <tr style=\"text-align: right;\">\n",
       "      <th></th>\n",
       "      <th>id</th>\n",
       "      <th>title</th>\n",
       "      <th>author</th>\n",
       "      <th>text</th>\n",
       "      <th>label</th>\n",
       "    </tr>\n",
       "  </thead>\n",
       "  <tbody>\n",
       "    <tr>\n",
       "      <th>0</th>\n",
       "      <td>0</td>\n",
       "      <td>House Dem Aide We Didn t Even See Comey s Letter Until Jason Chaffetz Tweeted It</td>\n",
       "      <td>Darrell Lucus</td>\n",
       "      <td>dem jason chaffetz darrell lucus october subscribe jason chaffetz courtesy olbermann fbi fbi email related hillary clinton email server via email jason chaffetz fbi dir fbi existence email pertinent reopened jason chaffetz jasoninthehouse october email unrelated anthony weiner sexting chaffetz initiate hillary entire chaffetz fbi roiled dud misreading chaffetz sin shareblue jason chaffetz fbi chaffetz chaffetz courtesy ko chaffetz machine however chaffetz darrell issa bipartisanship notify trample chaffetz ridiculously provo voting chaffetz expedition darrell lucus darrell old charismatic unapologetic ko dem nc darrelllucus click darrell mello yello</td>\n",
       "      <td>1</td>\n",
       "    </tr>\n",
       "  </tbody>\n",
       "</table>\n",
       "</div>"
      ],
      "text/plain": [
       "   id  \\\n",
       "0   0   \n",
       "\n",
       "                                                                              title  \\\n",
       "0  House Dem Aide We Didn t Even See Comey s Letter Until Jason Chaffetz Tweeted It   \n",
       "\n",
       "          author  \\\n",
       "0  Darrell Lucus   \n",
       "\n",
       "                                                                                                                                                                                                                                                                                                                                                                                                                                                                                                                                                                                                                                                                                text  \\\n",
       "0  dem jason chaffetz darrell lucus october subscribe jason chaffetz courtesy olbermann fbi fbi email related hillary clinton email server via email jason chaffetz fbi dir fbi existence email pertinent reopened jason chaffetz jasoninthehouse october email unrelated anthony weiner sexting chaffetz initiate hillary entire chaffetz fbi roiled dud misreading chaffetz sin shareblue jason chaffetz fbi chaffetz chaffetz courtesy ko chaffetz machine however chaffetz darrell issa bipartisanship notify trample chaffetz ridiculously provo voting chaffetz expedition darrell lucus darrell old charismatic unapologetic ko dem nc darrelllucus click darrell mello yello   \n",
       "\n",
       "   label  \n",
       "0      1  "
      ]
     },
     "execution_count": 70,
     "metadata": {},
     "output_type": "execute_result"
    }
   ],
   "source": [
    "import string\n",
    "\n",
    "display(data.head(1))\n",
    "\n",
    "data['text'] = data['text'].str.split(' ').apply(lambda x: ' '.join(k for k in x if k not in stop_words))\n",
    "test['text'] = test['text'].str.split(' ').apply(lambda x: ' '.join(k for k in x if k not in stop_words))\n",
    "data.head(1)"
   ]
  },
  {
   "cell_type": "markdown",
   "metadata": {},
   "source": [
    "## Prepare data for classification models"
   ]
  },
  {
   "cell_type": "code",
   "execution_count": 71,
   "metadata": {},
   "outputs": [],
   "source": [
    "import numpy as np # linear algebra\n",
    "import pandas as pd # data processing, CSV file I/O (e.g. pd.read_csv)"
   ]
  },
  {
   "cell_type": "code",
   "execution_count": 72,
   "metadata": {},
   "outputs": [],
   "source": [
    "from sklearn.feature_extraction.text import CountVectorizer\n",
    "from sklearn.model_selection import train_test_split\n",
    "from sklearn.feature_extraction.text import TfidfTransformer\n",
    "\n",
    "test=test.fillna('')\n",
    "data=data.fillna('')\n",
    "#data = data[:3000]\n",
    "count_vectorizer_t = CountVectorizer(ngram_range=(1, 2))\n",
    "counts = count_vectorizer_t.fit_transform(data['text'].values)\n",
    "\n",
    "transformer_tl = TfidfTransformer(smooth_idf=False)\n",
    "count_vectorizer_tl = CountVectorizer(ngram_range=(1, 2))\n",
    "counts_logreg = count_vectorizer_tl.fit_transform(data_logreg['text'].values)\n",
    "tfidf_logreg = transformer_tl.fit_transform(counts_logreg)\n",
    "\n",
    "count_vectorizer_author = CountVectorizer(ngram_range=(1, 2))\n",
    "counts_author = count_vectorizer_author.fit_transform(data['author'].values)\n",
    "\n",
    "count_vectorizer_title = CountVectorizer(ngram_range=(1, 2))\n",
    "counts_title = count_vectorizer_title.fit_transform(data['title'].values)"
   ]
  },
  {
   "cell_type": "markdown",
   "metadata": {},
   "source": [
    "## Split data into training and testing partitions"
   ]
  },
  {
   "cell_type": "code",
   "execution_count": 99,
   "metadata": {},
   "outputs": [
    {
     "name": "stdout",
     "output_type": "stream",
     "text": [
      "20800\n",
      "(20779, 3244177)\n",
      "(21, 3244177)\n",
      "(20800, 1278)\n"
     ]
    }
   ],
   "source": [
    "from keras.preprocessing.text import Tokenizer\n",
    "from keras.preprocessing.sequence import pad_sequences\n",
    "\n",
    "max_fatures = 2000\n",
    "tokenizer = Tokenizer(num_words=max_fatures, split=' ')\n",
    "tokenizer.fit_on_texts(data['text'].values)\n",
    "X_lstm = tokenizer.texts_to_sequences(data['text'].values)\n",
    "X_lstm = pad_sequences(X_lstm)\n",
    "\n",
    "targets = data['label'].values\n",
    "\n",
    "X_train_lstm, X_test_lstm, X_train_log, X_test_log, X_train_t, X_test_t, X_train_a, X_test_a, X_train, X_test, y_train, y_test = train_test_split(X_lstm, tfidf_logreg, counts_title, counts_author, counts, targets, test_size = 0.001, random_state=15)\n",
    "\n",
    "print(X_train_log.shape)\n",
    "print(X_test_log.shape)\n",
    "\n",
    "print(X_lstm.shape)"
   ]
  },
  {
   "cell_type": "code",
   "execution_count": 77,
   "metadata": {},
   "outputs": [],
   "source": [
    "def predict_from_multiple_estimator(estimators, label_encoder, X_list, weights = None):\n",
    "\n",
    "    # Predict 'soft' voting with probabilities\n",
    "\n",
    "    pred1 = np.asarray([clf.predict_proba(X) for clf, X in zip(estimators, X_list)])\n",
    "    pred2 = np.average(pred1, axis=0, weights=weights)\n",
    "    pred = np.argmax(pred2, axis=1)\n",
    "\n",
    "    # Convert integer predictions to original labels:\n",
    "    return label_encoder.inverse_transform(pred)"
   ]
  },
  {
   "cell_type": "markdown",
   "metadata": {},
   "source": [
    "## Run Models on data and test prediction accuracy"
   ]
  },
  {
   "cell_type": "code",
   "execution_count": 78,
   "metadata": {},
   "outputs": [
    {
     "name": "stdout",
     "output_type": "stream",
     "text": [
      "Accuracy of MultinomialNB on test set: 0.85714\n",
      "Accuracy of MultinomialNB on test set with authors: 0.95238\n",
      "Accuracy of MultinomialNB on test set with titles: 0.95238\n",
      "Fitting 5 folds for each of 12 candidates, totalling 60 fits\n"
     ]
    },
    {
     "name": "stderr",
     "output_type": "stream",
     "text": [
      "[Parallel(n_jobs=1)]: Done  60 out of  60 | elapsed:   23.8s finished\n"
     ]
    },
    {
     "name": "stdout",
     "output_type": "stream",
     "text": [
      "Accuracy of GridSearch on text data: 0.85714\n",
      "Fitting 5 folds for each of 12 candidates, totalling 60 fits\n"
     ]
    },
    {
     "name": "stderr",
     "output_type": "stream",
     "text": [
      "[Parallel(n_jobs=1)]: Done  60 out of  60 | elapsed:    0.4s finished\n"
     ]
    },
    {
     "name": "stdout",
     "output_type": "stream",
     "text": [
      "Accuracy with GridSearch on author metadata: 0.95238\n",
      "Fitting 5 folds for each of 12 candidates, totalling 60 fits\n"
     ]
    },
    {
     "name": "stderr",
     "output_type": "stream",
     "text": [
      "[Parallel(n_jobs=1)]: Done  60 out of  60 | elapsed:    3.1s finished\n"
     ]
    },
    {
     "name": "stdout",
     "output_type": "stream",
     "text": [
      "Accuracy GridSearch on title metadata: 0.95238\n",
      "Accuracy of LogisticRegression test set: 0.952\n",
      "Accuracy of Adaboost classifier on test set: 1.00\n",
      "Accuracy on author, text and title clf voting: {:.5f} 0.9523809523809523\n"
     ]
    },
    {
     "name": "stderr",
     "output_type": "stream",
     "text": [
      "C:\\Users\\jsors\\Anaconda3\\lib\\site-packages\\sklearn\\preprocessing\\label.py:151: DeprecationWarning: The truth value of an empty array is ambiguous. Returning False, but in future this will result in an error. Use `array.size > 0` to check that an array is not empty.\n",
      "  if diff:\n"
     ]
    }
   ],
   "source": [
    "from sklearn.ensemble import VotingClassifier\n",
    "from sklearn.model_selection import GridSearchCV\n",
    "from sklearn.naive_bayes import MultinomialNB\n",
    "from sklearn.metrics import accuracy_score\n",
    "from sklearn.preprocessing import LabelEncoder\n",
    "from sklearn.tree import DecisionTreeClassifier\n",
    "from sklearn.ensemble import AdaBoostClassifier\n",
    "text_clf = MultinomialNB()\n",
    "text_clf.fit(X_train, y_train)\n",
    "print('Accuracy of MultinomialNB on test set: {:.5f}'\n",
    "     .format(text_clf.score(X_test, y_test)))\n",
    "\n",
    "author_clf = MultinomialNB()\n",
    "author_clf.fit(X_train_a, y_train)\n",
    "print('Accuracy of MultinomialNB on test set with authors: {:.5f}'\n",
    "     .format(author_clf.score(X_test_a, y_test)))\n",
    "\n",
    "title_clf = MultinomialNB()\n",
    "title_clf.fit(X_train_t, y_train)\n",
    "print('Accuracy of MultinomialNB on test set with titles: {:.5f}'\n",
    "     .format(title_clf.score(X_test_t, y_test)))\n",
    "\n",
    "\n",
    "grid_params = {\n",
    "  'alpha': np.linspace(0.5, 1.5, 6),\n",
    "  'fit_prior': [True, False],\n",
    "}\n",
    "\n",
    "gs_text = GridSearchCV(text_clf, grid_params, cv=5, verbose=1)\n",
    "gs_text.fit(X_train, y_train)\n",
    "\n",
    "print('Accuracy of GridSearch on text data: {:.5f}'\n",
    "     .format(gs_text.score(X_test, y_test)))\n",
    "\n",
    "gs_author = GridSearchCV(author_clf, grid_params, cv=5, verbose=1)\n",
    "gs_author.fit(X_train_a, y_train)\n",
    "\n",
    "print('Accuracy with GridSearch on author metadata: {:.5f}'\n",
    "     .format(gs_author.score(X_test_a, y_test)))\n",
    "\n",
    "gs_title = GridSearchCV(title_clf, grid_params, cv=5, verbose=1)\n",
    "gs_title.fit(X_train_t, y_train)\n",
    "\n",
    "print('Accuracy GridSearch on title metadata: {:.5f}'\n",
    "     .format(gs_title.score(X_test_t, y_test)))\n",
    "\n",
    "from sklearn.linear_model import LogisticRegression\n",
    "logreg = LogisticRegression(C=1e5)\n",
    "logreg.fit(X_train_log, y_train)\n",
    "\n",
    "print('Accuracy of LogisticRegression test set: {:.3f}'\n",
    "     .format(logreg.score(X_test_log, y_test)))\n",
    "\n",
    "\n",
    "adaboost= AdaBoostClassifier(DecisionTreeClassifier(max_depth=3),n_estimators=5)\n",
    "adaboost.fit(X_train_log, y_train)\n",
    "\n",
    "print('Accuracy of Adaboost classifier on test set: {:.2f}'\n",
    "     .format(adaboost.score(X_test_log, y_test)))\n",
    "\n",
    "\n",
    "label_encoder = LabelEncoder()\n",
    "label_encoder.fit(y_test)\n",
    "y_pred = predict_from_multiple_estimator([gs_text, gs_author, gs_title, logreg, adaboost], label_encoder, [X_test, X_test_a, X_test_t, X_test_log, X_test_log])\n",
    "print('Accuracy on author, text and title clf voting: {:.5f}' ,accuracy_score(y_test, y_pred))"
   ]
  },
  {
   "cell_type": "code",
   "execution_count": 103,
   "metadata": {},
   "outputs": [
    {
     "name": "stdout",
     "output_type": "stream",
     "text": [
      "(20779, 1278)\n",
      "(21, 1278)\n"
     ]
    },
    {
     "data": {
      "text/plain": [
       "(5200, 1278)"
      ]
     },
     "execution_count": 103,
     "metadata": {},
     "output_type": "execute_result"
    }
   ],
   "source": [
    "counts_t = count_vectorizer_t.transform(test['text'].values)\n",
    "\n",
    "counts_author_t = count_vectorizer_author.transform(test['author'].values)\n",
    "\n",
    "counts_title_t = count_vectorizer_title.transform(test['title'].values)\n",
    "\n",
    "counts_logreg = count_vectorizer_tl.transform(test_logreg['text'].values)\n",
    "tfidf_logreg_t = transformer_tl.transform(counts_logreg)\n",
    "\n",
    "#max_fatures = 2000\n",
    "\n",
    "\n",
    "#tokenizer = Tokenizer(num_words=max_fatures, split=' ')\n",
    "#tokenizer.fit_on_texts(test['text'].values)\n",
    "X_lstm = tokenizer.texts_to_sequences(test['text'].values)\n",
    "X_lstm = pad_sequences(X_lstm, maxlen = X_train_lstm.shape[1])\n",
    "\n",
    "#targets_test = test['label'].values\n",
    "#label_encoder = LabelEncoder()\n",
    "#label_encoder.fit(targets_test)\n",
    "\n",
    "\n",
    "print(X_train_lstm.shape)\n",
    "print(X_test_lstm.shape)\n",
    "X_lstm.shape"
   ]
  },
  {
   "cell_type": "code",
   "execution_count": 80,
   "metadata": {},
   "outputs": [
    {
     "name": "stderr",
     "output_type": "stream",
     "text": [
      "C:\\Users\\jsors\\Anaconda3\\lib\\site-packages\\sklearn\\preprocessing\\label.py:151: DeprecationWarning: The truth value of an empty array is ambiguous. Returning False, but in future this will result in an error. Use `array.size > 0` to check that an array is not empty.\n",
      "  if diff:\n"
     ]
    }
   ],
   "source": [
    "#y_pred = predict_from_multiple_estimator([gs_text, gs_author, gs_title, logreg], label_encoder, [X_test, X_test_a, X_test_t, X_test_log])\n",
    "\n",
    "y_pred = predict_from_multiple_estimator([gs_text, gs_author, gs_title, logreg, adaboost], label_encoder, [counts_t, counts_author_t, counts_title_t, tfidf_logreg_t, tfidf_logreg_t])\n",
    "pred = pd.DataFrame(y_pred,columns=['label'])\n",
    "pred['id']=test['id']\n",
    "pred.groupby('label').count()\n",
    "\n",
    "pred.to_csv('test_data_results.csv', index=False)"
   ]
  },
  {
   "cell_type": "markdown",
   "metadata": {},
   "source": [
    "0.9367942513565038 # difference < 0.9\n",
    "\n",
    "#### Only text\n",
    "Accuracy of MultinomialNB on test set: 0.950<br>\n",
    "Accuracy of LogisticRegression test set: 0.966<br>\n",
    "\n",
    "#### No preprocessing of text\n",
    "Accuracy of MultinomialNB on test set: 0.772<br>\n",
    "Accuracy of LogisticRegression test set: 0.973<br>\n",
    "\n",
    "#### Preprocessing on text\n",
    "Accuracy of MultinomialNB on test set: 0.92580<br>\n",
    "Accuracy of LogisticRegression test set: 0.961<br>\n",
    "\n",
    "#### With smoothing\n",
    "Accuracy of MultinomialNB on test set: 0.93449<br>\n",
    "Accuracy of LogisticRegression test set: 0.967<br>\n",
    "\n",
    "#### All columns no preprocessing\n",
    "Accuracy of MultinomialNB on test set: 0.69112<br>\n",
    "Accuracy of LogisticRegression test set: 0.977<br>\n",
    "\n",
    "#### All columns limited preprocessing\n",
    "Accuracy of MultinomialNB on test set: 0.82121<br>\n",
    "Accuracy of LogisticRegression test set: 0.984<br>\n",
    "\n",
    "#### With stopwords, fillna('') and strip:\n",
    "Accuracy of MultinomialNB on test set: 0.94115<br>\n",
    "Accuracy of LogisticRegression test set: 0.972<br>\n",
    "\n"
   ]
  },
  {
   "cell_type": "code",
   "execution_count": 84,
   "metadata": {},
   "outputs": [
    {
     "name": "stdout",
     "output_type": "stream",
     "text": [
      "(20779, 1278)\n"
     ]
    }
   ],
   "source": [
    "from sklearn.feature_extraction.text import CountVectorizer\n",
    "from keras.preprocessing.text import Tokenizer\n",
    "from keras.preprocessing.sequence import pad_sequences\n",
    "from keras.models import Sequential\n",
    "from keras.layers import Dense, Embedding, LSTM, SpatialDropout1D\n",
    "from sklearn.model_selection import train_test_split\n",
    "from keras.utils.np_utils import to_categorical\n",
    "from keras.utils.vis_utils import plot_model\n",
    "\n",
    "#max_fatures = 2000\n",
    "#tokenizer = Tokenizer(num_words=max_fatures, split=' ')\n",
    "#tokenizer.fit_on_texts(data['text'].values)\n",
    "#X = tokenizer.texts_to_sequences(data['text'].values)\n",
    "#X = pad_sequences(X)\n",
    "\n",
    "Y_train = to_categorical(y_train, num_classes=2)\n",
    "Y_test = to_categorical(y_test, num_classes=2)\n",
    "\n",
    "#X_train_lstm = X_train_lstm[:2000]\n",
    "#Y_train = Y_train[:2000]\n",
    "#X_train, X_test, Y_train, Y_test = train_test_split(X,Y, test_size = 0.33, random_state = 42)\n",
    "print(X_train_lstm.shape)"
   ]
  },
  {
   "cell_type": "code",
   "execution_count": 85,
   "metadata": {},
   "outputs": [
    {
     "data": {
      "text/plain": [
       "1278"
      ]
     },
     "execution_count": 85,
     "metadata": {},
     "output_type": "execute_result"
    }
   ],
   "source": [
    "X_train_lstm.shape[1]"
   ]
  },
  {
   "cell_type": "code",
   "execution_count": 86,
   "metadata": {},
   "outputs": [],
   "source": [
    "def create_model():\n",
    "    #embed_dim = 128\n",
    "    #lstm_out = 196\n",
    "    \n",
    "    embed_dim = 128\n",
    "    lstm_out = 96\n",
    "    \n",
    "    model = Sequential()\n",
    "    model.add(Embedding(max_fatures, embed_dim, input_length = X_train_lstm.shape[1]))\n",
    "    model.add(SpatialDropout1D(0.4))\n",
    "    model.add(LSTM(lstm_out, dropout=0.2, recurrent_dropout=0.2)) # , return_sequences=True\n",
    "   # model.add(LSTM(64, dropout=0.2, recurrent_dropout=0.2))\n",
    "    model.add(Dense(2,activation='softmax'))\n",
    "    model.compile(loss = 'binary_crossentropy', optimizer='adam',metrics = ['accuracy'])\n",
    "    print(model.summary())\n",
    "    #plot_model(model, to_file='model_plot.png', show_shapes=True, show_layer_names=True)\n",
    "    return model"
   ]
  },
  {
   "cell_type": "code",
   "execution_count": 87,
   "metadata": {},
   "outputs": [
    {
     "name": "stdout",
     "output_type": "stream",
     "text": [
      "_________________________________________________________________\n",
      "Layer (type)                 Output Shape              Param #   \n",
      "=================================================================\n",
      "embedding_3 (Embedding)      (None, 1278, 128)         256000    \n",
      "_________________________________________________________________\n",
      "spatial_dropout1d_3 (Spatial (None, 1278, 128)         0         \n",
      "_________________________________________________________________\n",
      "lstm_3 (LSTM)                (None, 96)                86400     \n",
      "_________________________________________________________________\n",
      "dense_3 (Dense)              (None, 2)                 194       \n",
      "=================================================================\n",
      "Total params: 342,594\n",
      "Trainable params: 342,594\n",
      "Non-trainable params: 0\n",
      "_________________________________________________________________\n",
      "None\n",
      "Epoch 1/14\n",
      "20779/20779 [==============================] - 1042s 50ms/step - loss: 0.2879 - acc: 0.8762\n",
      "Epoch 2/14\n",
      "20779/20779 [==============================] - 1059s 51ms/step - loss: 0.1773 - acc: 0.9331\n",
      "Epoch 3/14\n",
      "20779/20779 [==============================] - 1058s 51ms/step - loss: 0.1533 - acc: 0.9415\n",
      "Epoch 4/14\n",
      "20779/20779 [==============================] - 1059s 51ms/step - loss: 0.1350 - acc: 0.9486\n",
      "Epoch 5/14\n",
      "20779/20779 [==============================] - 1060s 51ms/step - loss: 0.1192 - acc: 0.9552\n",
      "Epoch 6/14\n",
      "20779/20779 [==============================] - 1061s 51ms/step - loss: 0.1147 - acc: 0.9572\n",
      "Epoch 7/14\n",
      "20779/20779 [==============================] - 1059s 51ms/step - loss: 0.1019 - acc: 0.9620\n",
      "Epoch 8/14\n",
      "20779/20779 [==============================] - 1061s 51ms/step - loss: 0.0964 - acc: 0.9656\n",
      "Epoch 9/14\n",
      "20779/20779 [==============================] - 1059s 51ms/step - loss: 0.0879 - acc: 0.9679\n",
      "Epoch 10/14\n",
      "20779/20779 [==============================] - 1058s 51ms/step - loss: 0.0828 - acc: 0.9694\n",
      "Epoch 11/14\n",
      "20779/20779 [==============================] - 1060s 51ms/step - loss: 0.0780 - acc: 0.9721\n",
      "Epoch 12/14\n",
      "20779/20779 [==============================] - 1060s 51ms/step - loss: 0.0754 - acc: 0.9722\n",
      "Epoch 13/14\n",
      "20779/20779 [==============================] - 1059s 51ms/step - loss: 0.0679 - acc: 0.9758\n",
      "Epoch 14/14\n",
      "20779/20779 [==============================] - 1470s 71ms/step - loss: 0.0630 - acc: 0.9781\n",
      "21/21 [==============================] - 4s 191ms/step\n",
      "Accuracy of LSTM test set: 0.857\n"
     ]
    }
   ],
   "source": [
    "from keras.wrappers.scikit_learn import KerasClassifier\n",
    "#model = create_model()\n",
    "#model.fit(X_train, Y_train, epochs = 7, batch_size=64, verbose = 1)\n",
    "\n",
    "lstm = KerasClassifier(build_fn=create_model, epochs=14, batch_size=64, verbose=1)\n",
    "lstm.fit(X_train_lstm, Y_train)\n",
    "print('Accuracy of LSTM test set: {:.3f}'.format(lstm.score(X_test_lstm, Y_test)))\n",
    "\n",
    "\n",
    "#score,acc = model.evaluate(X_test, Y_test, verbose = 2, batch_size = 64)\n",
    "#print(\"score: %.4f\" % (score))\n",
    "#print(\"acc: %.4f\" % (acc))"
   ]
  },
  {
   "cell_type": "code",
   "execution_count": 91,
   "metadata": {},
   "outputs": [
    {
     "name": "stdout",
     "output_type": "stream",
     "text": [
      "(20779, 1278)\n",
      "(21, 1278)\n"
     ]
    },
    {
     "data": {
      "text/plain": [
       "(5200, 5530)"
      ]
     },
     "execution_count": 91,
     "metadata": {},
     "output_type": "execute_result"
    }
   ],
   "source": [
    "print(X_train_lstm.shape)\n",
    "print(X_test_lstm.shape)\n",
    "X_lstm.shape"
   ]
  },
  {
   "cell_type": "code",
   "execution_count": 104,
   "metadata": {},
   "outputs": [
    {
     "name": "stdout",
     "output_type": "stream",
     "text": [
      "5200/5200 [==============================] - 158s 30ms/step\n"
     ]
    },
    {
     "name": "stderr",
     "output_type": "stream",
     "text": [
      "C:\\Users\\jsors\\Anaconda3\\lib\\site-packages\\sklearn\\preprocessing\\label.py:151: DeprecationWarning: The truth value of an empty array is ambiguous. Returning False, but in future this will result in an error. Use `array.size > 0` to check that an array is not empty.\n",
      "  if diff:\n"
     ]
    }
   ],
   "source": [
    "#predictions = model.predict(X_test)\n",
    "#print(predictions)\n",
    "\n",
    "#y_pred = predict_from_multiple_estimator([gs_text, gs_author, gs_title, logreg, lstm], label_encoder, [X_test, X_test_a, X_test_t, X_test_log, X_test_lstm])\n",
    "#print('Accuracy on author, text and title clf voting: {:.5f}' ,accuracy_score(y_test, y_pred))\n",
    "\n",
    "y_pred = predict_from_multiple_estimator([gs_text, gs_author, gs_title, logreg, adaboost, lstm], label_encoder, [counts_t, counts_author_t, counts_title_t, tfidf_logreg_t, tfidf_logreg_t, X_lstm])\n",
    "pred = pd.DataFrame(y_pred,columns=['label'])\n",
    "pred['id']=test['id']\n",
    "pred.groupby('label').count()\n",
    "\n",
    "pred.to_csv('test_data_results.csv', index=False)"
   ]
  },
  {
   "cell_type": "markdown",
   "metadata": {},
   "source": [
    "## Best accuracy:\n",
    "0.9650\n",
    "\n",
    "score: 0.1137<br>\n",
    "acc: 0.9643\n",
    "\n",
    "\n",
    "**max_features = 100**<br>\n",
    "128 lstm 64 lstm<br>\n",
    "score: 0.2740<br>\n",
    "acc: 0.8788<br>\n",
    "\n",
    "128 lstm<br>\n",
    "score: 0.2619<br>\n",
    "acc: 0.8788<br>\n",
    "\n",
    "128 lstm 128 dense<br>\n",
    "score: 0.3139<br>\n",
    "acc: 0.8636<br>\n",
    "\n",
    "256 lstm<br>\n",
    "score: 0.3054<br>\n",
    "acc: 0.8545<br>\n",
    "\n",
    "64 lstm<br>\n",
    "score: 0.2628<br>\n",
    "acc: 0.8818<br>\n",
    "\n",
    "**max_features = 2000**<br>\n",
    "lstm 64<br>\n",
    "score: 0.2168\n",
    "acc: 0.9091\n",
    "\n",
    "lstm 128<br>\n",
    "score: 0.2446\n",
    "acc: 0.9000\n",
    "\n",
    "lstm 96<br>\n",
    "score: 0.2763\n",
    "acc: 0.9152\n",
    "\n",
    "lstm 96 binary_crossentropy<br>\n",
    "score: 0.2615\n",
    "acc: 0.9030\n",
    "\n",
    "**max_features = 4000**<br>\n",
    "lstm 96<br>\n",
    "score: 0.2366\n",
    "acc: 0.9121"
   ]
  },
  {
   "cell_type": "code",
   "execution_count": 39,
   "metadata": {},
   "outputs": [
    {
     "name": "stdout",
     "output_type": "stream",
     "text": [
      "Saved model to disk\n"
     ]
    }
   ],
   "source": [
    "def save_model_to_file(model):\n",
    "    model_json = model.model.to_json()\n",
    "    with open(\"lstm.json\", \"w\") as json_file:\n",
    "        json_file.write(model_json)\n",
    "    # serialize weights to HDF5\n",
    "    model.model.save_weights(\"weights.h5\")\n",
    "    print(\"Saved model to disk\")\n",
    "    \n",
    "save_model_to_file(lstm)"
   ]
  },
  {
   "cell_type": "code",
   "execution_count": 40,
   "metadata": {},
   "outputs": [],
   "source": [
    "    def load_model_from_file():\n",
    "\n",
    "        # load json and create model\n",
    "        json_file = open('cnn.json', 'r')\n",
    "        loaded_model_json = json_file.read()\n",
    "        json_file.close()\n",
    "        loaded_model = model_from_json(loaded_model_json)\n",
    "        # load weights into new model\n",
    "        loaded_model.load_weights(\"weights.h5\")\n",
    "        print(\"Loaded model from disk\")\n",
    "\n",
    "        # evaluate loaded model on test data\n",
    "        loaded_model.compile(loss='categorical_crossentropy', optimizer='adam', metrics=['accuracy'])\n",
    "\n",
    "        return loaded_model\n"
   ]
  },
  {
   "cell_type": "code",
   "execution_count": 41,
   "metadata": {},
   "outputs": [
    {
     "ename": "ValueError",
     "evalue": "Dimension 0 in both shapes must be equal, but are 500 and 2000. Shapes are [500,128] and [2000,128]. for 'Assign' (op: 'Assign') with input shapes: [500,128], [2000,128].",
     "output_type": "error",
     "traceback": [
      "\u001b[1;31m---------------------------------------------------------------------------\u001b[0m",
      "\u001b[1;31mInvalidArgumentError\u001b[0m                      Traceback (most recent call last)",
      "\u001b[1;32m~\\Anaconda3\\lib\\site-packages\\tensorflow\\python\\framework\\ops.py\u001b[0m in \u001b[0;36m_create_c_op\u001b[1;34m(graph, node_def, inputs, control_inputs)\u001b[0m\n\u001b[0;32m   1627\u001b[0m   \u001b[1;32mtry\u001b[0m\u001b[1;33m:\u001b[0m\u001b[1;33m\u001b[0m\u001b[0m\n\u001b[1;32m-> 1628\u001b[1;33m     \u001b[0mc_op\u001b[0m \u001b[1;33m=\u001b[0m \u001b[0mc_api\u001b[0m\u001b[1;33m.\u001b[0m\u001b[0mTF_FinishOperation\u001b[0m\u001b[1;33m(\u001b[0m\u001b[0mop_desc\u001b[0m\u001b[1;33m)\u001b[0m\u001b[1;33m\u001b[0m\u001b[0m\n\u001b[0m\u001b[0;32m   1629\u001b[0m   \u001b[1;32mexcept\u001b[0m \u001b[0merrors\u001b[0m\u001b[1;33m.\u001b[0m\u001b[0mInvalidArgumentError\u001b[0m \u001b[1;32mas\u001b[0m \u001b[0me\u001b[0m\u001b[1;33m:\u001b[0m\u001b[1;33m\u001b[0m\u001b[0m\n",
      "\u001b[1;31mInvalidArgumentError\u001b[0m: Dimension 0 in both shapes must be equal, but are 500 and 2000. Shapes are [500,128] and [2000,128]. for 'Assign' (op: 'Assign') with input shapes: [500,128], [2000,128].",
      "\nDuring handling of the above exception, another exception occurred:\n",
      "\u001b[1;31mValueError\u001b[0m                                Traceback (most recent call last)",
      "\u001b[1;32m<ipython-input-41-2a0222da1598>\u001b[0m in \u001b[0;36m<module>\u001b[1;34m()\u001b[0m\n\u001b[0;32m      1\u001b[0m \u001b[1;32mfrom\u001b[0m \u001b[0mkeras\u001b[0m\u001b[1;33m.\u001b[0m\u001b[0mmodels\u001b[0m \u001b[1;32mimport\u001b[0m \u001b[0mmodel_from_json\u001b[0m\u001b[1;33m\u001b[0m\u001b[0m\n\u001b[0;32m      2\u001b[0m \u001b[1;33m\u001b[0m\u001b[0m\n\u001b[1;32m----> 3\u001b[1;33m \u001b[0mmodel2\u001b[0m \u001b[1;33m=\u001b[0m \u001b[0mload_model_from_file\u001b[0m\u001b[1;33m(\u001b[0m\u001b[1;33m)\u001b[0m\u001b[1;33m\u001b[0m\u001b[0m\n\u001b[0m\u001b[0;32m      4\u001b[0m \u001b[0mscore\u001b[0m\u001b[1;33m,\u001b[0m\u001b[0macc\u001b[0m \u001b[1;33m=\u001b[0m \u001b[0mmodel2\u001b[0m\u001b[1;33m.\u001b[0m\u001b[0mevaluate\u001b[0m\u001b[1;33m(\u001b[0m\u001b[0mX_test\u001b[0m\u001b[1;33m,\u001b[0m \u001b[0mY_test\u001b[0m\u001b[1;33m,\u001b[0m \u001b[0mverbose\u001b[0m \u001b[1;33m=\u001b[0m \u001b[1;36m1\u001b[0m\u001b[1;33m,\u001b[0m \u001b[0mbatch_size\u001b[0m \u001b[1;33m=\u001b[0m \u001b[1;36m64\u001b[0m\u001b[1;33m)\u001b[0m\u001b[1;33m\u001b[0m\u001b[0m\n\u001b[0;32m      5\u001b[0m \u001b[0mprint\u001b[0m\u001b[1;33m(\u001b[0m\u001b[1;34m\"score: %.4f\"\u001b[0m \u001b[1;33m%\u001b[0m \u001b[1;33m(\u001b[0m\u001b[0mscore\u001b[0m\u001b[1;33m)\u001b[0m\u001b[1;33m)\u001b[0m\u001b[1;33m\u001b[0m\u001b[0m\n",
      "\u001b[1;32m<ipython-input-40-43f3f31dbb3f>\u001b[0m in \u001b[0;36mload_model_from_file\u001b[1;34m()\u001b[0m\n\u001b[0;32m      7\u001b[0m     \u001b[0mloaded_model\u001b[0m \u001b[1;33m=\u001b[0m \u001b[0mmodel_from_json\u001b[0m\u001b[1;33m(\u001b[0m\u001b[0mloaded_model_json\u001b[0m\u001b[1;33m)\u001b[0m\u001b[1;33m\u001b[0m\u001b[0m\n\u001b[0;32m      8\u001b[0m     \u001b[1;31m# load weights into new model\u001b[0m\u001b[1;33m\u001b[0m\u001b[1;33m\u001b[0m\u001b[0m\n\u001b[1;32m----> 9\u001b[1;33m     \u001b[0mloaded_model\u001b[0m\u001b[1;33m.\u001b[0m\u001b[0mload_weights\u001b[0m\u001b[1;33m(\u001b[0m\u001b[1;34m\"weights.h5\"\u001b[0m\u001b[1;33m)\u001b[0m\u001b[1;33m\u001b[0m\u001b[0m\n\u001b[0m\u001b[0;32m     10\u001b[0m     \u001b[0mprint\u001b[0m\u001b[1;33m(\u001b[0m\u001b[1;34m\"Loaded model from disk\"\u001b[0m\u001b[1;33m)\u001b[0m\u001b[1;33m\u001b[0m\u001b[0m\n\u001b[0;32m     11\u001b[0m \u001b[1;33m\u001b[0m\u001b[0m\n",
      "\u001b[1;32m~\\Anaconda3\\lib\\site-packages\\keras\\engine\\network.py\u001b[0m in \u001b[0;36mload_weights\u001b[1;34m(self, filepath, by_name, skip_mismatch, reshape)\u001b[0m\n\u001b[0;32m   1164\u001b[0m             \u001b[1;32melse\u001b[0m\u001b[1;33m:\u001b[0m\u001b[1;33m\u001b[0m\u001b[0m\n\u001b[0;32m   1165\u001b[0m                 saving.load_weights_from_hdf5_group(\n\u001b[1;32m-> 1166\u001b[1;33m                     f, self.layers, reshape=reshape)\n\u001b[0m\u001b[0;32m   1167\u001b[0m \u001b[1;33m\u001b[0m\u001b[0m\n\u001b[0;32m   1168\u001b[0m     \u001b[1;32mdef\u001b[0m \u001b[0m_updated_config\u001b[0m\u001b[1;33m(\u001b[0m\u001b[0mself\u001b[0m\u001b[1;33m)\u001b[0m\u001b[1;33m:\u001b[0m\u001b[1;33m\u001b[0m\u001b[0m\n",
      "\u001b[1;32m~\\Anaconda3\\lib\\site-packages\\keras\\engine\\saving.py\u001b[0m in \u001b[0;36mload_weights_from_hdf5_group\u001b[1;34m(f, layers, reshape)\u001b[0m\n\u001b[0;32m   1056\u001b[0m                              ' elements.')\n\u001b[0;32m   1057\u001b[0m         \u001b[0mweight_value_tuples\u001b[0m \u001b[1;33m+=\u001b[0m \u001b[0mzip\u001b[0m\u001b[1;33m(\u001b[0m\u001b[0msymbolic_weights\u001b[0m\u001b[1;33m,\u001b[0m \u001b[0mweight_values\u001b[0m\u001b[1;33m)\u001b[0m\u001b[1;33m\u001b[0m\u001b[0m\n\u001b[1;32m-> 1058\u001b[1;33m     \u001b[0mK\u001b[0m\u001b[1;33m.\u001b[0m\u001b[0mbatch_set_value\u001b[0m\u001b[1;33m(\u001b[0m\u001b[0mweight_value_tuples\u001b[0m\u001b[1;33m)\u001b[0m\u001b[1;33m\u001b[0m\u001b[0m\n\u001b[0m\u001b[0;32m   1059\u001b[0m \u001b[1;33m\u001b[0m\u001b[0m\n\u001b[0;32m   1060\u001b[0m \u001b[1;33m\u001b[0m\u001b[0m\n",
      "\u001b[1;32m~\\Anaconda3\\lib\\site-packages\\keras\\backend\\tensorflow_backend.py\u001b[0m in \u001b[0;36mbatch_set_value\u001b[1;34m(tuples)\u001b[0m\n\u001b[0;32m   2463\u001b[0m                 assign_placeholder = tf.placeholder(tf_dtype,\n\u001b[0;32m   2464\u001b[0m                                                     shape=value.shape)\n\u001b[1;32m-> 2465\u001b[1;33m                 \u001b[0massign_op\u001b[0m \u001b[1;33m=\u001b[0m \u001b[0mx\u001b[0m\u001b[1;33m.\u001b[0m\u001b[0massign\u001b[0m\u001b[1;33m(\u001b[0m\u001b[0massign_placeholder\u001b[0m\u001b[1;33m)\u001b[0m\u001b[1;33m\u001b[0m\u001b[0m\n\u001b[0m\u001b[0;32m   2466\u001b[0m                 \u001b[0mx\u001b[0m\u001b[1;33m.\u001b[0m\u001b[0m_assign_placeholder\u001b[0m \u001b[1;33m=\u001b[0m \u001b[0massign_placeholder\u001b[0m\u001b[1;33m\u001b[0m\u001b[0m\n\u001b[0;32m   2467\u001b[0m                 \u001b[0mx\u001b[0m\u001b[1;33m.\u001b[0m\u001b[0m_assign_op\u001b[0m \u001b[1;33m=\u001b[0m \u001b[0massign_op\u001b[0m\u001b[1;33m\u001b[0m\u001b[0m\n",
      "\u001b[1;32m~\\Anaconda3\\lib\\site-packages\\tensorflow\\python\\ops\\variables.py\u001b[0m in \u001b[0;36massign\u001b[1;34m(self, value, use_locking, name, read_value)\u001b[0m\n\u001b[0;32m   1716\u001b[0m     \"\"\"\n\u001b[0;32m   1717\u001b[0m     assign = state_ops.assign(self._variable, value, use_locking=use_locking,\n\u001b[1;32m-> 1718\u001b[1;33m                               name=name)\n\u001b[0m\u001b[0;32m   1719\u001b[0m     \u001b[1;32mif\u001b[0m \u001b[0mread_value\u001b[0m\u001b[1;33m:\u001b[0m\u001b[1;33m\u001b[0m\u001b[0m\n\u001b[0;32m   1720\u001b[0m       \u001b[1;32mreturn\u001b[0m \u001b[0massign\u001b[0m\u001b[1;33m\u001b[0m\u001b[0m\n",
      "\u001b[1;32m~\\Anaconda3\\lib\\site-packages\\tensorflow\\python\\ops\\state_ops.py\u001b[0m in \u001b[0;36massign\u001b[1;34m(ref, value, validate_shape, use_locking, name)\u001b[0m\n\u001b[0;32m    219\u001b[0m     return gen_state_ops.assign(\n\u001b[0;32m    220\u001b[0m         \u001b[0mref\u001b[0m\u001b[1;33m,\u001b[0m \u001b[0mvalue\u001b[0m\u001b[1;33m,\u001b[0m \u001b[0muse_locking\u001b[0m\u001b[1;33m=\u001b[0m\u001b[0muse_locking\u001b[0m\u001b[1;33m,\u001b[0m \u001b[0mname\u001b[0m\u001b[1;33m=\u001b[0m\u001b[0mname\u001b[0m\u001b[1;33m,\u001b[0m\u001b[1;33m\u001b[0m\u001b[0m\n\u001b[1;32m--> 221\u001b[1;33m         validate_shape=validate_shape)\n\u001b[0m\u001b[0;32m    222\u001b[0m   \u001b[1;32mreturn\u001b[0m \u001b[0mref\u001b[0m\u001b[1;33m.\u001b[0m\u001b[0massign\u001b[0m\u001b[1;33m(\u001b[0m\u001b[0mvalue\u001b[0m\u001b[1;33m,\u001b[0m \u001b[0mname\u001b[0m\u001b[1;33m=\u001b[0m\u001b[0mname\u001b[0m\u001b[1;33m)\u001b[0m\u001b[1;33m\u001b[0m\u001b[0m\n\u001b[0;32m    223\u001b[0m \u001b[1;33m\u001b[0m\u001b[0m\n",
      "\u001b[1;32m~\\Anaconda3\\lib\\site-packages\\tensorflow\\python\\ops\\gen_state_ops.py\u001b[0m in \u001b[0;36massign\u001b[1;34m(ref, value, validate_shape, use_locking, name)\u001b[0m\n\u001b[0;32m     59\u001b[0m     _, _, _op = _op_def_lib._apply_op_helper(\n\u001b[0;32m     60\u001b[0m         \u001b[1;34m\"Assign\"\u001b[0m\u001b[1;33m,\u001b[0m \u001b[0mref\u001b[0m\u001b[1;33m=\u001b[0m\u001b[0mref\u001b[0m\u001b[1;33m,\u001b[0m \u001b[0mvalue\u001b[0m\u001b[1;33m=\u001b[0m\u001b[0mvalue\u001b[0m\u001b[1;33m,\u001b[0m \u001b[0mvalidate_shape\u001b[0m\u001b[1;33m=\u001b[0m\u001b[0mvalidate_shape\u001b[0m\u001b[1;33m,\u001b[0m\u001b[1;33m\u001b[0m\u001b[0m\n\u001b[1;32m---> 61\u001b[1;33m         use_locking=use_locking, name=name)\n\u001b[0m\u001b[0;32m     62\u001b[0m     \u001b[0m_result\u001b[0m \u001b[1;33m=\u001b[0m \u001b[0m_op\u001b[0m\u001b[1;33m.\u001b[0m\u001b[0moutputs\u001b[0m\u001b[1;33m[\u001b[0m\u001b[1;33m:\u001b[0m\u001b[1;33m]\u001b[0m\u001b[1;33m\u001b[0m\u001b[0m\n\u001b[0;32m     63\u001b[0m     \u001b[0m_inputs_flat\u001b[0m \u001b[1;33m=\u001b[0m \u001b[0m_op\u001b[0m\u001b[1;33m.\u001b[0m\u001b[0minputs\u001b[0m\u001b[1;33m\u001b[0m\u001b[0m\n",
      "\u001b[1;32m~\\Anaconda3\\lib\\site-packages\\tensorflow\\python\\framework\\op_def_library.py\u001b[0m in \u001b[0;36m_apply_op_helper\u001b[1;34m(self, op_type_name, name, **keywords)\u001b[0m\n\u001b[0;32m    785\u001b[0m         op = g.create_op(op_type_name, inputs, output_types, name=scope,\n\u001b[0;32m    786\u001b[0m                          \u001b[0minput_types\u001b[0m\u001b[1;33m=\u001b[0m\u001b[0minput_types\u001b[0m\u001b[1;33m,\u001b[0m \u001b[0mattrs\u001b[0m\u001b[1;33m=\u001b[0m\u001b[0mattr_protos\u001b[0m\u001b[1;33m,\u001b[0m\u001b[1;33m\u001b[0m\u001b[0m\n\u001b[1;32m--> 787\u001b[1;33m                          op_def=op_def)\n\u001b[0m\u001b[0;32m    788\u001b[0m       \u001b[1;32mreturn\u001b[0m \u001b[0moutput_structure\u001b[0m\u001b[1;33m,\u001b[0m \u001b[0mop_def\u001b[0m\u001b[1;33m.\u001b[0m\u001b[0mis_stateful\u001b[0m\u001b[1;33m,\u001b[0m \u001b[0mop\u001b[0m\u001b[1;33m\u001b[0m\u001b[0m\n\u001b[0;32m    789\u001b[0m \u001b[1;33m\u001b[0m\u001b[0m\n",
      "\u001b[1;32m~\\Anaconda3\\lib\\site-packages\\tensorflow\\python\\util\\deprecation.py\u001b[0m in \u001b[0;36mnew_func\u001b[1;34m(*args, **kwargs)\u001b[0m\n\u001b[0;32m    486\u001b[0m                 \u001b[1;34m'in a future version'\u001b[0m \u001b[1;32mif\u001b[0m \u001b[0mdate\u001b[0m \u001b[1;32mis\u001b[0m \u001b[1;32mNone\u001b[0m \u001b[1;32melse\u001b[0m \u001b[1;33m(\u001b[0m\u001b[1;34m'after %s'\u001b[0m \u001b[1;33m%\u001b[0m \u001b[0mdate\u001b[0m\u001b[1;33m)\u001b[0m\u001b[1;33m,\u001b[0m\u001b[1;33m\u001b[0m\u001b[0m\n\u001b[0;32m    487\u001b[0m                 instructions)\n\u001b[1;32m--> 488\u001b[1;33m       \u001b[1;32mreturn\u001b[0m \u001b[0mfunc\u001b[0m\u001b[1;33m(\u001b[0m\u001b[1;33m*\u001b[0m\u001b[0margs\u001b[0m\u001b[1;33m,\u001b[0m \u001b[1;33m**\u001b[0m\u001b[0mkwargs\u001b[0m\u001b[1;33m)\u001b[0m\u001b[1;33m\u001b[0m\u001b[0m\n\u001b[0m\u001b[0;32m    489\u001b[0m     return tf_decorator.make_decorator(func, new_func, 'deprecated',\n\u001b[0;32m    490\u001b[0m                                        _add_deprecated_arg_notice_to_docstring(\n",
      "\u001b[1;32m~\\Anaconda3\\lib\\site-packages\\tensorflow\\python\\framework\\ops.py\u001b[0m in \u001b[0;36mcreate_op\u001b[1;34m(***failed resolving arguments***)\u001b[0m\n\u001b[0;32m   3272\u001b[0m           \u001b[0minput_types\u001b[0m\u001b[1;33m=\u001b[0m\u001b[0minput_types\u001b[0m\u001b[1;33m,\u001b[0m\u001b[1;33m\u001b[0m\u001b[0m\n\u001b[0;32m   3273\u001b[0m           \u001b[0moriginal_op\u001b[0m\u001b[1;33m=\u001b[0m\u001b[0mself\u001b[0m\u001b[1;33m.\u001b[0m\u001b[0m_default_original_op\u001b[0m\u001b[1;33m,\u001b[0m\u001b[1;33m\u001b[0m\u001b[0m\n\u001b[1;32m-> 3274\u001b[1;33m           op_def=op_def)\n\u001b[0m\u001b[0;32m   3275\u001b[0m       \u001b[0mself\u001b[0m\u001b[1;33m.\u001b[0m\u001b[0m_create_op_helper\u001b[0m\u001b[1;33m(\u001b[0m\u001b[0mret\u001b[0m\u001b[1;33m,\u001b[0m \u001b[0mcompute_device\u001b[0m\u001b[1;33m=\u001b[0m\u001b[0mcompute_device\u001b[0m\u001b[1;33m)\u001b[0m\u001b[1;33m\u001b[0m\u001b[0m\n\u001b[0;32m   3276\u001b[0m     \u001b[1;32mreturn\u001b[0m \u001b[0mret\u001b[0m\u001b[1;33m\u001b[0m\u001b[0m\n",
      "\u001b[1;32m~\\Anaconda3\\lib\\site-packages\\tensorflow\\python\\framework\\ops.py\u001b[0m in \u001b[0;36m__init__\u001b[1;34m(self, node_def, g, inputs, output_types, control_inputs, input_types, original_op, op_def)\u001b[0m\n\u001b[0;32m   1790\u001b[0m           op_def, inputs, node_def.attr)\n\u001b[0;32m   1791\u001b[0m       self._c_op = _create_c_op(self._graph, node_def, grouped_inputs,\n\u001b[1;32m-> 1792\u001b[1;33m                                 control_input_ops)\n\u001b[0m\u001b[0;32m   1793\u001b[0m \u001b[1;33m\u001b[0m\u001b[0m\n\u001b[0;32m   1794\u001b[0m     \u001b[1;31m# Initialize self._outputs.\u001b[0m\u001b[1;33m\u001b[0m\u001b[1;33m\u001b[0m\u001b[0m\n",
      "\u001b[1;32m~\\Anaconda3\\lib\\site-packages\\tensorflow\\python\\framework\\ops.py\u001b[0m in \u001b[0;36m_create_c_op\u001b[1;34m(graph, node_def, inputs, control_inputs)\u001b[0m\n\u001b[0;32m   1629\u001b[0m   \u001b[1;32mexcept\u001b[0m \u001b[0merrors\u001b[0m\u001b[1;33m.\u001b[0m\u001b[0mInvalidArgumentError\u001b[0m \u001b[1;32mas\u001b[0m \u001b[0me\u001b[0m\u001b[1;33m:\u001b[0m\u001b[1;33m\u001b[0m\u001b[0m\n\u001b[0;32m   1630\u001b[0m     \u001b[1;31m# Convert to ValueError for backwards compatibility.\u001b[0m\u001b[1;33m\u001b[0m\u001b[1;33m\u001b[0m\u001b[0m\n\u001b[1;32m-> 1631\u001b[1;33m     \u001b[1;32mraise\u001b[0m \u001b[0mValueError\u001b[0m\u001b[1;33m(\u001b[0m\u001b[0mstr\u001b[0m\u001b[1;33m(\u001b[0m\u001b[0me\u001b[0m\u001b[1;33m)\u001b[0m\u001b[1;33m)\u001b[0m\u001b[1;33m\u001b[0m\u001b[0m\n\u001b[0m\u001b[0;32m   1632\u001b[0m \u001b[1;33m\u001b[0m\u001b[0m\n\u001b[0;32m   1633\u001b[0m   \u001b[1;32mreturn\u001b[0m \u001b[0mc_op\u001b[0m\u001b[1;33m\u001b[0m\u001b[0m\n",
      "\u001b[1;31mValueError\u001b[0m: Dimension 0 in both shapes must be equal, but are 500 and 2000. Shapes are [500,128] and [2000,128]. for 'Assign' (op: 'Assign') with input shapes: [500,128], [2000,128]."
     ]
    }
   ],
   "source": [
    "from keras.models import model_from_json\n",
    "\n",
    "model2 = load_model_from_file()\n",
    "score,acc = model2.evaluate(X_test, Y_test, verbose = 1, batch_size = 64)\n",
    "print(\"score: %.4f\" % (score))\n",
    "print(\"acc: %.4f\" % (acc)) "
   ]
  },
  {
   "cell_type": "code",
   "execution_count": null,
   "metadata": {},
   "outputs": [],
   "source": []
  },
  {
   "cell_type": "code",
   "execution_count": null,
   "metadata": {},
   "outputs": [],
   "source": []
  },
  {
   "cell_type": "code",
   "execution_count": null,
   "metadata": {},
   "outputs": [],
   "source": []
  }
 ],
 "metadata": {
  "kernelspec": {
   "display_name": "Python 3",
   "language": "python",
   "name": "python3"
  },
  "language_info": {
   "codemirror_mode": {
    "name": "ipython",
    "version": 3
   },
   "file_extension": ".py",
   "mimetype": "text/x-python",
   "name": "python",
   "nbconvert_exporter": "python",
   "pygments_lexer": "ipython3",
   "version": "3.6.5"
  }
 },
 "nbformat": 4,
 "nbformat_minor": 2
}
